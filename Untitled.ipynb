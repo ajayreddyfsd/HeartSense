{
 "cells": [
  {
   "cell_type": "code",
   "execution_count": 2,
   "id": "4dcdaf12-67c1-4b5f-8e1c-6c1ffddcf89b",
   "metadata": {},
   "outputs": [
    {
     "name": "stdout",
     "output_type": "stream",
     "text": [
      "{'name': 'Ajay', 'skills': ['Python', 'ML', 'Data Science'], 'projects': {'HeartSense': {'status': 'ongoing', 'lines_of_code': 500}, 'Portfolio': {'status': 'completed', 'lines_of_code': 300}}}\n",
      "\n",
      "Pretty Print:\n",
      "{'name': 'Ajay',\n",
      " 'projects': {'HeartSense': {'lines_of_code': 500, 'status': 'ongoing'},\n",
      "              'Portfolio': {'lines_of_code': 300, 'status': 'completed'}},\n",
      " 'skills': ['Python', 'ML', 'Data Science']}\n"
     ]
    }
   ],
   "source": []
  },
  {
   "cell_type": "code",
   "execution_count": null,
   "id": "dd544ecb-6c92-4533-b2dc-e62af8f22d2e",
   "metadata": {},
   "outputs": [],
   "source": []
  }
 ],
 "metadata": {
  "kernelspec": {
   "display_name": "Python 3 (ipykernel)",
   "language": "python",
   "name": "python3"
  },
  "language_info": {
   "codemirror_mode": {
    "name": "ipython",
    "version": 3
   },
   "file_extension": ".py",
   "mimetype": "text/x-python",
   "name": "python",
   "nbconvert_exporter": "python",
   "pygments_lexer": "ipython3",
   "version": "3.13.4"
  }
 },
 "nbformat": 4,
 "nbformat_minor": 5
}
